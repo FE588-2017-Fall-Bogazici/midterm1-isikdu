{
 "cells": [
  {
   "cell_type": "markdown",
   "metadata": {},
   "source": [
    "Stock Option classının oluşturulması"
   ]
  },
  {
   "cell_type": "code",
   "execution_count": 52,
   "metadata": {},
   "outputs": [],
   "source": [
    "class StockOption(object):\n",
    "    def __init__(self, S0, K, r, T, N, params):\n",
    "        self.S0 = S0\n",
    "        self.K = K\n",
    "        self.r = r\n",
    "        self.T = T\n",
    "        self.N = max(1, N) # Ensure N have at least 1 time step\n",
    "        self.STs = None # Declare the stock prices tree\n",
    "        \"\"\" Optional parameters used by derived classes \"\"\"\n",
    "        self.pu = params.get(\"pu\", 0) # Probability of up state\n",
    "        self.pd = params.get(\"pd\", 0) # Probability of down state\n",
    "        self.div = params.get(\"div\", 0) # Dividend yield\n",
    "        self.sigma = params.get(\"sigma\", 0) # Volatility\n",
    "        self.is_call = params.get(\"is_call\", True) # Call or put\n",
    "        self.is_european = params.get(\"is_eu\", True) # Eu or Am\n",
    "        \"\"\" Computed values \"\"\"\n",
    "        self.dt = T/float(N) # Single time step, in years\n",
    "        self.df = math.exp(-(r-self.div) * self.dt) # Discount factor"
   ]
  },
  {
   "cell_type": "markdown",
   "metadata": {},
   "source": [
    "Europian Pricing"
   ]
  },
  {
   "cell_type": "code",
   "execution_count": 45,
   "metadata": {},
   "outputs": [],
   "source": [
    "import math\n",
    "import numpy as np\n",
    "class BinomialEuropeanOption(StockOption):\n",
    "    def __setup_parameters__(self):\n",
    "        \"\"\" Required calculations for the model \"\"\"\n",
    "        self.M = self.N + 1 # Number of terminal nodes of tree\n",
    "        self.u = 1 + self.pu # Expected value in the up state\n",
    "        self.d = 1 - self.pd # Expected value in the down state\n",
    "        self.qu = (math.exp((self.r-self.div)*self.dt) -\n",
    "        self.d) / (self.u-self.d)\n",
    "        self.qd = 1-self.qu\n",
    "    \n",
    "    def _initialize_stock_price_tree_(self):\n",
    "        # Initialize terminal price nodes to zeros\n",
    "        self.STs = np.zeros(self.M)\n",
    "        \n",
    "            # Calculate expected stock prices for each node\n",
    "        for i in range(self.M):\n",
    "            self.STs[i] = self.S0*(self.u**(self.N-i))*(self.d**i)\n",
    "\n",
    "    def _initialize_payoffs_tree_(self):\n",
    "        # Get payoffs when the option expires at terminal nodes\n",
    "        payoffs = np.maximum(\n",
    "            0, (self.STs-self.K) if self.is_call\n",
    "            else(self.K-self.STs))\n",
    "        \n",
    "        return payoffs\n",
    "\n",
    "    def _traverse_tree_(self, payoffs):\n",
    "        # Starting from the time the option expires, traverse\n",
    "        # backwards and calculate discounted payoffs at each node\n",
    "        for i in range(self.N):\n",
    "            payoffs = (payoffs[:-1] * self.qu +\n",
    "                payoffs[1:] * self.qd) * self.df\n",
    "        return payoffs\n",
    "\n",
    "    def __begin_tree_traversal__(self):\n",
    "        payoffs = self._initialize_payoffs_tree_()\n",
    "        return self._traverse_tree_(payoffs)\n",
    "    \n",
    "    def price(self):\n",
    "        \"\"\" The pricing implementation \"\"\"\n",
    "        self.__setup_parameters__()\n",
    "        self._initialize_stock_price_tree_()\n",
    "        payoffs = self.__begin_tree_traversal__()\n",
    "        return payoffs[0]\n",
    "# Option value converges to first node"
   ]
  },
  {
   "cell_type": "markdown",
   "metadata": {},
   "source": [
    "European Pricing Örnek"
   ]
  },
  {
   "cell_type": "code",
   "execution_count": 48,
   "metadata": {},
   "outputs": [
    {
     "ename": "ModuleNotFoundError",
     "evalue": "No module named 'StockOption'",
     "output_type": "error",
     "traceback": [
      "\u001b[1;31m---------------------------------------------------------------------------\u001b[0m",
      "\u001b[1;31mModuleNotFoundError\u001b[0m                       Traceback (most recent call last)",
      "\u001b[1;32m<ipython-input-48-175a1e97d0b7>\u001b[0m in \u001b[0;36m<module>\u001b[1;34m()\u001b[0m\n\u001b[1;32m----> 1\u001b[1;33m \u001b[1;32mfrom\u001b[0m \u001b[0mStockOption\u001b[0m \u001b[1;32mimport\u001b[0m \u001b[0mStockOption\u001b[0m\u001b[1;33m\u001b[0m\u001b[0m\n\u001b[0m\u001b[0;32m      2\u001b[0m \u001b[1;32mfrom\u001b[0m \u001b[0mBinomialEuropeanOption\u001b[0m \u001b[1;32mimport\u001b[0m \u001b[0mBinomialEuropeanOption\u001b[0m\u001b[1;33m\u001b[0m\u001b[0m\n\u001b[0;32m      3\u001b[0m \u001b[1;33m\u001b[0m\u001b[0m\n\u001b[0;32m      4\u001b[0m \u001b[0meu_option\u001b[0m \u001b[1;33m=\u001b[0m \u001b[0mBinomialEuropeanOption\u001b[0m \u001b[1;33m(\u001b[0m\u001b[1;36m50\u001b[0m\u001b[1;33m,\u001b[0m \u001b[1;36m50\u001b[0m\u001b[1;33m,\u001b[0m \u001b[1;36m0.05\u001b[0m\u001b[1;33m,\u001b[0m \u001b[1;36m0.5\u001b[0m\u001b[1;33m,\u001b[0m \u001b[1;36m2\u001b[0m\u001b[1;33m,\u001b[0m \u001b[1;33m{\u001b[0m\u001b[1;34m\"pu\"\u001b[0m\u001b[1;33m:\u001b[0m \u001b[1;36m0.2\u001b[0m\u001b[1;33m,\u001b[0m \u001b[1;34m\"pd\"\u001b[0m\u001b[1;33m:\u001b[0m \u001b[1;36m0.2\u001b[0m\u001b[1;33m,\u001b[0m \u001b[1;34m\"is_call\"\u001b[0m\u001b[1;33m:\u001b[0m \u001b[1;32mFalse\u001b[0m\u001b[1;33m}\u001b[0m\u001b[1;33m)\u001b[0m\u001b[1;33m\u001b[0m\u001b[0m\n\u001b[0;32m      5\u001b[0m \u001b[1;33m\u001b[0m\u001b[0m\n",
      "\u001b[1;31mModuleNotFoundError\u001b[0m: No module named 'StockOption'"
     ]
    }
   ],
   "source": [
    "from StockOption import StockOption\n",
    "from BinomialEuropeanOption import BinomialEuropeanOption\n",
    "\n",
    "eu_option = BinomialEuropeanOption (50, 50, 0.05, 0.5, 2, {\"pu\": 0.2, \"pd\": 0.2, \"is_call\": False})\n",
    "\n",
    "print option.price()\n"
   ]
  },
  {
   "cell_type": "markdown",
   "metadata": {},
   "source": [
    "American Pricing"
   ]
  },
  {
   "cell_type": "code",
   "execution_count": 27,
   "metadata": {},
   "outputs": [],
   "source": [
    "import math\n",
    "import numpy as np\n",
    "\n",
    "class BinomialTreeOption(StockOption):\n",
    "\n",
    "    def _setup_parameters_(self):\n",
    "        self.u = 1 + self.pu # Expected value in the up state\n",
    "        self.d = 1 - self.pd # Expected value in the down state\n",
    "        self.qu = (math.exp((self.r-self.div)*self.dt) -\n",
    "        self.d)/(self.u-self.d)\n",
    "        self.qd = 1-self.qu\n",
    "        \n",
    "    def _initialize_stock_price_tree_(self):\n",
    "        # Initialize a 2D tree at T=0\n",
    "        self.STs = [np.array([self.S0])]\n",
    "        # Simulate the possible stock prices path\n",
    "        for i in range(self.N):\n",
    "            prev_branches = self.STs[-1]\n",
    "            st = np.concatenate((prev_branches*self.u,[prev_branches[-1]*self.d]))\n",
    "            self.STs.append(st) # Add nodes at each time step\n",
    "\n",
    "    def _initialize_payoffs_tree_(self):\n",
    "        # The payoffs when option expires\n",
    "        return np.maximum(0, (self.STs[self.N]-self.K) if self.is_call\n",
    "        else (self.K-self.STs[self.N]))\n",
    "\n",
    "    def __check_early_exercise__(self, payoffs, node):\n",
    "        early_ex_payoff = \\\n",
    "        (self.STs[node] - self.K) if self.is_call \\\n",
    "        else (self.K - self.STs[node])\n",
    "        return np.maximum(payoffs, early_ex_payoff)\n",
    "    \n",
    "    def _traverse_tree_(self, payoffs):\n",
    "        for i in reversed(range(self.N)):\n",
    "            # The payoffs from NOT exercising the option\n",
    "            payoffs = (payoffs[:-1] * self.qu +\n",
    "            payoffs[1:] * self.qd) * self.df\n",
    "            # Payoffs from exercising, for American options\n",
    "            if not self.is_european:\n",
    "                payoffs = self.__check_early_exercise__(payoffs,i)\n",
    "        return payoffs\n",
    "\n",
    "    def __begin_tree_traversal__(self):\n",
    "        payoffs = self._initialize_payoffs_tree_()\n",
    "        return self._traverse_tree_(payoffs)\n",
    "    \n",
    "    def price(self):\n",
    "        self._setup_parameters_()\n",
    "        self._initialize_stock_price_tree_()\n",
    "        payoffs = self.__begin_tree_traversal__()\n",
    "        return payoffs[0]"
   ]
  },
  {
   "cell_type": "markdown",
   "metadata": {},
   "source": [
    "American Pricing Örnek"
   ]
  },
  {
   "cell_type": "code",
   "execution_count": 50,
   "metadata": {},
   "outputs": [
    {
     "ename": "SyntaxError",
     "evalue": "invalid syntax (<ipython-input-50-80541136f944>, line 3)",
     "output_type": "error",
     "traceback": [
      "\u001b[1;36m  File \u001b[1;32m\"<ipython-input-50-80541136f944>\"\u001b[1;36m, line \u001b[1;32m3\u001b[0m\n\u001b[1;33m    print am_option.price()\u001b[0m\n\u001b[1;37m                  ^\u001b[0m\n\u001b[1;31mSyntaxError\u001b[0m\u001b[1;31m:\u001b[0m invalid syntax\n"
     ]
    }
   ],
   "source": [
    "from BinomialAmericanOption import BinomialTreeOption\n",
    "am_option = BinomialTreeOption(50, 50, 0.05, 0.5, 2,{\"pu\": 0.2, \"pd\": 0.2, \"is_call\": False, \"is_eu\": False})\n",
    "print am_option.price()"
   ]
  }
 ],
 "metadata": {
  "kernelspec": {
   "display_name": "Python 3",
   "language": "python",
   "name": "python3"
  },
  "language_info": {
   "codemirror_mode": {
    "name": "ipython",
    "version": 3
   },
   "file_extension": ".py",
   "mimetype": "text/x-python",
   "name": "python",
   "nbconvert_exporter": "python",
   "pygments_lexer": "ipython3",
   "version": "3.6.2"
  }
 },
 "nbformat": 4,
 "nbformat_minor": 2
}
